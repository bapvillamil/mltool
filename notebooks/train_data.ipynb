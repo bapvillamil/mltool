{
 "cells": [
  {
   "cell_type": "code",
   "execution_count": 97,
   "metadata": {},
   "outputs": [],
   "source": [
    "import pandas as pd\n",
    "from sklearn.neural_network import MLPClassifier\n",
    "from joblib import dump, load"
   ]
  },
  {
   "cell_type": "code",
   "execution_count": 98,
   "metadata": {},
   "outputs": [],
   "source": [
    "input_x_train_file = \"x_train.csv\"\n",
    "input_y_train_file = \"y_train.csv\"\n",
    "\n",
    "input_x_train_file_red = \"x_train_red.csv\"\n",
    "input_y_train_file_red = \"y_train_red.csv\"\n",
    "\n",
    "input_x_train_file_white = \"x_train_white.csv\"\n",
    "input_y_train_file_white = \"y_train_white.csv\"\n",
    "\n",
    "df_x = pd.read_csv(input_x_train_file)\n",
    "df_y = pd.read_csv(input_y_train_file)\n",
    "\n",
    "df_x_red = pd.read_csv(input_x_train_file_red)\n",
    "df_y_red = pd.read_csv(input_y_train_file_red)\n",
    "\n",
    "df_x_white = pd.read_csv(input_x_train_file_white)\n",
    "df_y_white = pd.read_csv(input_y_train_file_white)\n",
    "\n",
    "x = df_x.values\n",
    "y = df_y.values\n",
    "\n",
    "x_red = df_x_red.values\n",
    "y_red = df_y_red.values\n",
    "\n",
    "x_white = df_x_white.values\n",
    "y_white = df_y_white.values"
   ]
  },
  {
   "cell_type": "code",
   "execution_count": 99,
   "metadata": {},
   "outputs": [
    {
     "name": "stderr",
     "output_type": "stream",
     "text": [
      "d:\\Python Projects\\mltool\\env\\lib\\site-packages\\sklearn\\neural_network\\_multilayer_perceptron.py:679: ConvergenceWarning: Stochastic Optimizer: Maximum iterations (300) reached and the optimization hasn't converged yet.\n",
      "  warnings.warn(\n",
      "d:\\Python Projects\\mltool\\env\\lib\\site-packages\\sklearn\\neural_network\\_multilayer_perceptron.py:679: ConvergenceWarning: Stochastic Optimizer: Maximum iterations (300) reached and the optimization hasn't converged yet.\n",
      "  warnings.warn(\n",
      "d:\\Python Projects\\mltool\\env\\lib\\site-packages\\sklearn\\neural_network\\_multilayer_perceptron.py:679: ConvergenceWarning: Stochastic Optimizer: Maximum iterations (300) reached and the optimization hasn't converged yet.\n",
      "  warnings.warn(\n"
     ]
    },
    {
     "data": {
      "text/plain": [
       "['white_mlp.joblib']"
      ]
     },
     "execution_count": 99,
     "metadata": {},
     "output_type": "execute_result"
    }
   ],
   "source": [
    "clf = MLPClassifier(random_state=1, max_iter=300)\n",
    "clf.fit(x, y)\n",
    "dump(clf, \"drugs_mlp.joblib\")\n",
    "\n",
    "\n",
    "clf_red = MLPClassifier(random_state=1, max_iter=300)\n",
    "clf_red.fit(x_red, y_red)\n",
    "dump(clf_red, \"red_mlp.joblib\")\n",
    "\n",
    "\n",
    "clf_white = MLPClassifier(random_state=1, max_iter=300)\n",
    "clf_white.fit(x_white, y_white)\n",
    "dump(clf_white, \"white_mlp.joblib\")"
   ]
  },
  {
   "cell_type": "code",
   "execution_count": null,
   "metadata": {},
   "outputs": [],
   "source": [
    "\n"
   ]
  },
  {
   "cell_type": "code",
   "execution_count": null,
   "metadata": {},
   "outputs": [],
   "source": []
  }
 ],
 "metadata": {
  "kernelspec": {
   "display_name": "Python 3.10.7 ('env': venv)",
   "language": "python",
   "name": "python3"
  },
  "language_info": {
   "codemirror_mode": {
    "name": "ipython",
    "version": 3
   },
   "file_extension": ".py",
   "mimetype": "text/x-python",
   "name": "python",
   "nbconvert_exporter": "python",
   "pygments_lexer": "ipython3",
   "version": "3.10.7"
  },
  "orig_nbformat": 4,
  "vscode": {
   "interpreter": {
    "hash": "f237385f6b24b0886768fccc79df27c4cdc4d07b2fb0f1f20d41b35af9afddc4"
   }
  }
 },
 "nbformat": 4,
 "nbformat_minor": 2
}
