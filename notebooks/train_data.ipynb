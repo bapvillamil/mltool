{
 "cells": [
  {
   "cell_type": "code",
   "execution_count": 7,
   "metadata": {},
   "outputs": [],
   "source": [
    "import pandas as pd\n",
    "from sklearn.neural_network import MLPClassifier\n",
    "from joblib import dump, load\n",
    "from xgboost import XGBClassifier"
   ]
  },
  {
   "cell_type": "code",
   "execution_count": 8,
   "metadata": {},
   "outputs": [],
   "source": [
    "input_x_train_file = \"x_train_drugs.csv\"\n",
    "input_y_train_file = \"y_train_drugs.csv\"\n",
    "\n",
    "input_x_train_file_red = \"x_train_red.csv\"\n",
    "input_y_train_file_red = \"y_train_red.csv\"\n",
    "\n",
    "input_x_train_file_white = \"x_train_white.csv\"\n",
    "input_y_train_file_white = \"y_train_white.csv\"\n",
    "\n",
    "df_x = pd.read_csv(input_x_train_file)\n",
    "df_y = pd.read_csv(input_y_train_file)\n",
    "\n",
    "df_x_red = pd.read_csv(input_x_train_file_red)\n",
    "df_y_red = pd.read_csv(input_y_train_file_red)\n",
    "\n",
    "df_x_white = pd.read_csv(input_x_train_file_white)\n",
    "df_y_white = pd.read_csv(input_y_train_file_white)\n",
    "\n",
    "x = df_x.values\n",
    "y = df_y.values\n",
    "\n",
    "x_red = df_x_red.values\n",
    "y_red = df_y_red.values\n",
    "\n",
    "x_white = df_x_white.values\n",
    "y_white = df_y_white.values"
   ]
  },
  {
   "cell_type": "code",
   "execution_count": 9,
   "metadata": {},
   "outputs": [
    {
     "data": {
      "text/plain": [
       "['../models/white_mlp.joblib']"
      ]
     },
     "execution_count": 9,
     "metadata": {},
     "output_type": "execute_result"
    }
   ],
   "source": [
    "#clf = MLPClassifier(random_state=1, max_iter=300)\n",
    "clf = XGBClassifier(random_state=1, n_estimators=300, learning_rate=0.01)\n",
    "clf.fit(x, y)\n",
    "dump(clf, \"../models/drugs_mlp.joblib\")\n",
    "\n",
    "\n",
    "#clf_red = MLPClassifier(random_state=1, max_iter=300)\n",
    "clf_red = XGBClassifier(random_state=1, n_estimators=300, learning_rate=0.01)\n",
    "clf_red.fit(x_red, y_red)\n",
    "dump(clf_red, \"../models/red_mlp.joblib\")\n",
    "\n",
    "\n",
    "#clf_white = MLPClassifier(random_state=1, max_iter=300)\n",
    "clf_white = XGBClassifier(random_state=1, n_estimators=300, learning_rate=0.01)\n",
    "clf_white.fit(x_white, y_white)\n",
    "dump(clf_white, \"../models/white_mlp.joblib\")"
   ]
  },
  {
   "cell_type": "code",
   "execution_count": null,
   "metadata": {},
   "outputs": [],
   "source": [
    "\n"
   ]
  },
  {
   "cell_type": "code",
   "execution_count": null,
   "metadata": {},
   "outputs": [],
   "source": []
  }
 ],
 "metadata": {
  "kernelspec": {
   "display_name": "env",
   "language": "python",
   "name": "python3"
  },
  "language_info": {
   "codemirror_mode": {
    "name": "ipython",
    "version": 3
   },
   "file_extension": ".py",
   "mimetype": "text/x-python",
   "name": "python",
   "nbconvert_exporter": "python",
   "pygments_lexer": "ipython3",
   "version": "3.10.7"
  },
  "orig_nbformat": 4,
  "vscode": {
   "interpreter": {
    "hash": "5523be5453831e7e3c7f59f6a52399e987a9e2bdd722cefa882143ad12df93f7"
   }
  }
 },
 "nbformat": 4,
 "nbformat_minor": 2
}
