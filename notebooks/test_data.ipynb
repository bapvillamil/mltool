{
 "cells": [
  {
   "cell_type": "code",
   "execution_count": 21,
   "metadata": {},
   "outputs": [],
   "source": [
    "import pandas as pd\n",
    "from sklearn.neural_network import MLPClassifier\n",
    "from joblib import dump, load\n",
    "from sklearn.metrics import multilabel_confusion_matrix\n",
    "from sklearn.metrics import classification_report\n",
    "from sklearn.metrics import accuracy_score\n",
    "\n"
   ]
  },
  {
   "cell_type": "code",
   "execution_count": 22,
   "metadata": {},
   "outputs": [],
   "source": [
    "input_model_file = \"../models/white_mlp.joblib\"\n",
    "input_test_file = \"x_test_white.csv\"\n",
    "input_labels_file = \"y_test_white.csv\"\n",
    "\n",
    "df_x = pd.read_csv(input_test_file)\n",
    "df_y = pd.read_csv(input_labels_file)\n",
    "\n",
    "x = df_x.values\n",
    "y = df_y.values"
   ]
  },
  {
   "cell_type": "code",
   "execution_count": 23,
   "metadata": {},
   "outputs": [
    {
     "data": {
      "text/plain": [
       "array([[0., 0., 0., ..., 1., 0., 0.],\n",
       "       [0., 0., 0., ..., 0., 0., 0.],\n",
       "       [0., 0., 0., ..., 0., 0., 0.],\n",
       "       ...,\n",
       "       [0., 0., 0., ..., 0., 0., 0.],\n",
       "       [0., 0., 1., ..., 0., 0., 0.],\n",
       "       [0., 0., 0., ..., 0., 0., 0.]], dtype=float32)"
      ]
     },
     "execution_count": 23,
     "metadata": {},
     "output_type": "execute_result"
    }
   ],
   "source": [
    "# Load model\n",
    "clf = load(input_model_file)\n",
    "\n",
    "def one_hot_encoding(nd_array):\n",
    "    one_hot_encoding_predictions = nd_array\n",
    "\n",
    "    for i in range(len(nd_array)):\n",
    "        max_pred = max(nd_array[i])\n",
    "\n",
    "        for j in range(len(nd_array[i])):\n",
    "            one_hot_encoding_predictions[i][j] = 1 if nd_array[i][j] == max_pred else 0\n",
    "\n",
    "    return one_hot_encoding_predictions\n",
    "\n",
    "predictions = clf.predict_proba(x)\n",
    "\n",
    "predictions = one_hot_encoding(predictions)\n",
    "\n",
    "predictions"
   ]
  },
  {
   "cell_type": "code",
   "execution_count": 24,
   "metadata": {},
   "outputs": [
    {
     "data": {
      "text/plain": [
       "array([[[328,   1],\n",
       "        [  0,   0]],\n",
       "\n",
       "       [[315,   1],\n",
       "        [ 12,   1]],\n",
       "\n",
       "       [[193,  30],\n",
       "        [ 45,  61]],\n",
       "\n",
       "       [[ 96,  78],\n",
       "        [ 33, 122]],\n",
       "\n",
       "       [[270,  16],\n",
       "        [ 27,  16]],\n",
       "\n",
       "       [[318,   0],\n",
       "        [  8,   3]],\n",
       "\n",
       "       [[328,   0],\n",
       "        [  1,   0]]], dtype=int64)"
      ]
     },
     "execution_count": 24,
     "metadata": {},
     "output_type": "execute_result"
    }
   ],
   "source": [
    "# Benchmark our predictions\n",
    "benchmarks = multilabel_confusion_matrix(y, predictions)\n",
    "\n",
    "benchmarks"
   ]
  },
  {
   "cell_type": "code",
   "execution_count": 25,
   "metadata": {},
   "outputs": [
    {
     "name": "stdout",
     "output_type": "stream",
     "text": [
      "              precision    recall  f1-score   support\n",
      "\n",
      "           0       0.00      0.00      0.00         0\n",
      "           1       0.50      0.08      0.13        13\n",
      "           2       0.67      0.58      0.62       106\n",
      "           3       0.61      0.79      0.69       155\n",
      "           4       0.50      0.37      0.43        43\n",
      "           5       1.00      0.27      0.43        11\n",
      "           6       0.00      0.00      0.00         1\n",
      "\n",
      "   micro avg       0.62      0.62      0.62       329\n",
      "   macro avg       0.47      0.30      0.33       329\n",
      "weighted avg       0.62      0.62      0.60       329\n",
      " samples avg       0.62      0.62      0.62       329\n",
      "\n"
     ]
    },
    {
     "name": "stderr",
     "output_type": "stream",
     "text": [
      "c:\\Users\\BVILLAMIL\\Desktop\\training_dec\\env\\lib\\site-packages\\sklearn\\metrics\\_classification.py:1344: UndefinedMetricWarning: Precision and F-score are ill-defined and being set to 0.0 in labels with no predicted samples. Use `zero_division` parameter to control this behavior.\n",
      "  _warn_prf(average, modifier, msg_start, len(result))\n",
      "c:\\Users\\BVILLAMIL\\Desktop\\training_dec\\env\\lib\\site-packages\\sklearn\\metrics\\_classification.py:1344: UndefinedMetricWarning: Recall and F-score are ill-defined and being set to 0.0 in labels with no true samples. Use `zero_division` parameter to control this behavior.\n",
      "  _warn_prf(average, modifier, msg_start, len(result))\n"
     ]
    }
   ],
   "source": [
    "report = classification_report(y, predictions)\n",
    "\n",
    "print(report)"
   ]
  }
 ],
 "metadata": {
  "kernelspec": {
   "display_name": "env",
   "language": "python",
   "name": "python3"
  },
  "language_info": {
   "codemirror_mode": {
    "name": "ipython",
    "version": 3
   },
   "file_extension": ".py",
   "mimetype": "text/x-python",
   "name": "python",
   "nbconvert_exporter": "python",
   "pygments_lexer": "ipython3",
   "version": "3.10.7"
  },
  "orig_nbformat": 4,
  "vscode": {
   "interpreter": {
    "hash": "5523be5453831e7e3c7f59f6a52399e987a9e2bdd722cefa882143ad12df93f7"
   }
  }
 },
 "nbformat": 4,
 "nbformat_minor": 2
}
