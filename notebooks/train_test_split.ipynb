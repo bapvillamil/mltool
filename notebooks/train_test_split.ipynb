{
 "cells": [
  {
   "cell_type": "code",
   "execution_count": 56,
   "metadata": {},
   "outputs": [],
   "source": [
    "import pandas as pd\n",
    "from sklearn.model_selection import train_test_split"
   ]
  },
  {
   "cell_type": "code",
   "execution_count": 57,
   "metadata": {},
   "outputs": [
    {
     "name": "stdout",
     "output_type": "stream",
     "text": [
      "910\n",
      "161\n"
     ]
    }
   ],
   "source": [
    "x = pd.read_csv(\"drugs_x_train.csv\")\n",
    "y = pd.read_csv(\"drugs_y_train.csv\")\n",
    "\n",
    "x_red = pd.read_csv(\"winequality_red_x_train.csv\")\n",
    "y_red =pd.read_csv(\"winequality_red_y_train.csv\")\n",
    "\n",
    "\n",
    "ratio = 0.68\n",
    "test_size = 1 - ratio\n",
    "\n",
    "ratio_red = 0.68\n",
    "test_size_red = 1 - ratio_red\n",
    "\n",
    "x_train, x_test, y_train, y_test = train_test_split(x, y, test_size=test_size, random_state=0)\n",
    "x_train_red, x_test_red, y_train_red, y_test_red = train_test_split(x_red, y_red, test_size=test_size_red, random_state=0)\n",
    "\n",
    "print(len(y_train_red))\n",
    "print(len(y_test_red))\n"
   ]
  },
  {
   "cell_type": "code",
   "execution_count": 58,
   "metadata": {},
   "outputs": [],
   "source": [
    "x_train.to_csv('x_train.csv', index=False)\n",
    "x_test.to_csv('x_test.csv', index=False)\n",
    "y_train.to_csv('y_train.csv', index=False)\n",
    "y_test.to_csv('y_test.csv', index=False)\n",
    "\n",
    "\n",
    "x_train_red.to_csv('x_train_red.csv', index=False)\n",
    "x_test_red.to_csv('x_test_red.csv', index=False)\n",
    "y_train_red.to_csv('y_train_red.csv', index=False)\n",
    "y_test_red.to_csv('y_test_red.csv', index=False)"
   ]
  }
 ],
 "metadata": {
  "kernelspec": {
   "display_name": "Python 3.10.7 ('env': venv)",
   "language": "python",
   "name": "python3"
  },
  "language_info": {
   "codemirror_mode": {
    "name": "ipython",
    "version": 3
   },
   "file_extension": ".py",
   "mimetype": "text/x-python",
   "name": "python",
   "nbconvert_exporter": "python",
   "pygments_lexer": "ipython3",
   "version": "3.10.7"
  },
  "orig_nbformat": 4,
  "vscode": {
   "interpreter": {
    "hash": "55e5b8d1c40c662210006f37c0d99a657875beb616220e0410ce15388844ba66"
   }
  }
 },
 "nbformat": 4,
 "nbformat_minor": 2
}
